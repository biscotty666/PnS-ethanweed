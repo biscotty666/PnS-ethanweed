{
 "cells": [
  {
   "cell_type": "markdown",
   "metadata": {},
   "source": [
    "# Categorical Data Analysis - Chi Squared\n",
    "\n",
    "[Source](https://ethanweed.github.io/pythonbook/05.01-chisquare.html)"
   ]
  },
  {
   "cell_type": "markdown",
   "metadata": {},
   "source": [
    "## $\\chi^2$ goodness-of-fit test"
   ]
  },
  {
   "cell_type": "markdown",
   "metadata": {},
   "source": [
    "Suppose I asked people to imagine a shuffled deck of cards, and mentally pick one card from this imaginary deck “at random”. After they’ve chosen one card, I ask them to mentally select a second one. For both choices, what we’re going to look at is the suit (hearts, clubs, spades or diamonds) that people chose. After asking, say, $N=100$ people to do this, I’d like to look at the data and figure out whether or not the cards that people pretended to select were really random. The data are contained in the file called `cards.csv`. Let’s take a look:"
   ]
  },
  {
   "cell_type": "code",
   "execution_count": 13,
   "metadata": {},
   "outputs": [],
   "source": [
    "import pandas as pd\n",
    "import warnings\n",
    "warnings.filterwarnings('ignore')"
   ]
  },
  {
   "cell_type": "code",
   "execution_count": 2,
   "metadata": {},
   "outputs": [
    {
     "data": {
      "text/html": [
       "<div>\n",
       "<style scoped>\n",
       "    .dataframe tbody tr th:only-of-type {\n",
       "        vertical-align: middle;\n",
       "    }\n",
       "\n",
       "    .dataframe tbody tr th {\n",
       "        vertical-align: top;\n",
       "    }\n",
       "\n",
       "    .dataframe thead th {\n",
       "        text-align: right;\n",
       "    }\n",
       "</style>\n",
       "<table border=\"1\" class=\"dataframe\">\n",
       "  <thead>\n",
       "    <tr style=\"text-align: right;\">\n",
       "      <th></th>\n",
       "      <th>id</th>\n",
       "      <th>choice_1</th>\n",
       "      <th>choice_2</th>\n",
       "    </tr>\n",
       "  </thead>\n",
       "  <tbody>\n",
       "    <tr>\n",
       "      <th>0</th>\n",
       "      <td>subj1</td>\n",
       "      <td>spades</td>\n",
       "      <td>clubs</td>\n",
       "    </tr>\n",
       "    <tr>\n",
       "      <th>1</th>\n",
       "      <td>subj2</td>\n",
       "      <td>diamonds</td>\n",
       "      <td>clubs</td>\n",
       "    </tr>\n",
       "    <tr>\n",
       "      <th>2</th>\n",
       "      <td>subj3</td>\n",
       "      <td>hearts</td>\n",
       "      <td>clubs</td>\n",
       "    </tr>\n",
       "    <tr>\n",
       "      <th>3</th>\n",
       "      <td>subj4</td>\n",
       "      <td>spades</td>\n",
       "      <td>clubs</td>\n",
       "    </tr>\n",
       "    <tr>\n",
       "      <th>4</th>\n",
       "      <td>subj5</td>\n",
       "      <td>hearts</td>\n",
       "      <td>spades</td>\n",
       "    </tr>\n",
       "    <tr>\n",
       "      <th>...</th>\n",
       "      <td>...</td>\n",
       "      <td>...</td>\n",
       "      <td>...</td>\n",
       "    </tr>\n",
       "    <tr>\n",
       "      <th>195</th>\n",
       "      <td>subj196</td>\n",
       "      <td>spades</td>\n",
       "      <td>hearts</td>\n",
       "    </tr>\n",
       "    <tr>\n",
       "      <th>196</th>\n",
       "      <td>subj197</td>\n",
       "      <td>hearts</td>\n",
       "      <td>spades</td>\n",
       "    </tr>\n",
       "    <tr>\n",
       "      <th>197</th>\n",
       "      <td>subj198</td>\n",
       "      <td>clubs</td>\n",
       "      <td>clubs</td>\n",
       "    </tr>\n",
       "    <tr>\n",
       "      <th>198</th>\n",
       "      <td>subj199</td>\n",
       "      <td>spades</td>\n",
       "      <td>hearts</td>\n",
       "    </tr>\n",
       "    <tr>\n",
       "      <th>199</th>\n",
       "      <td>subj200</td>\n",
       "      <td>hearts</td>\n",
       "      <td>hearts</td>\n",
       "    </tr>\n",
       "  </tbody>\n",
       "</table>\n",
       "<p>200 rows × 3 columns</p>\n",
       "</div>"
      ],
      "text/plain": [
       "          id  choice_1 choice_2\n",
       "0      subj1    spades    clubs\n",
       "1      subj2  diamonds    clubs\n",
       "2      subj3    hearts    clubs\n",
       "3      subj4    spades    clubs\n",
       "4      subj5    hearts   spades\n",
       "..       ...       ...      ...\n",
       "195  subj196    spades   hearts\n",
       "196  subj197    hearts   spades\n",
       "197  subj198     clubs    clubs\n",
       "198  subj199    spades   hearts\n",
       "199  subj200    hearts   hearts\n",
       "\n",
       "[200 rows x 3 columns]"
      ]
     },
     "execution_count": 2,
     "metadata": {},
     "output_type": "execute_result"
    }
   ],
   "source": [
    "df = pd.read_csv('https://raw.githubusercontent.com/ethanweed/pythonbook/main/Data/cards.csv')\n",
    "df"
   ]
  },
  {
   "cell_type": "markdown",
   "metadata": {},
   "source": [
    "For the moment, let’s just focus on the first choice that people made. We’ll use the `value_counts()` function to count the number of times that we observed people choosing each suit. I’ll save the table to a variable called observed, for reasons that will become clear very soon:"
   ]
  },
  {
   "cell_type": "code",
   "execution_count": 3,
   "metadata": {},
   "outputs": [
    {
     "data": {
      "text/plain": [
       "choice_1\n",
       "hearts      64\n",
       "diamonds    51\n",
       "spades      50\n",
       "clubs       35\n",
       "Name: count, dtype: int64"
      ]
     },
     "execution_count": 3,
     "metadata": {},
     "output_type": "execute_result"
    }
   ],
   "source": [
    "observed = df.choice_1.value_counts()\n",
    "observed"
   ]
  },
  {
   "cell_type": "markdown",
   "metadata": {},
   "source": [
    "### Null hypothesis and alternative hypothesis\n",
    "\n",
    "$H_0$: All four suits are chosen with equal probability - $P=(.25,.25,.25,.25)$\n",
    "\n",
    "$H_1$: At least one suit-choice probability isn't .25 - $P\\ne (.25,.25,.25,.25)$"
   ]
  },
  {
   "cell_type": "code",
   "execution_count": 4,
   "metadata": {},
   "outputs": [
    {
     "data": {
      "text/plain": [
       "hearts      0.25\n",
       "diamonds    0.25\n",
       "spades      0.25\n",
       "clubs       0.25\n",
       "dtype: float64"
      ]
     },
     "execution_count": 4,
     "metadata": {},
     "output_type": "execute_result"
    }
   ],
   "source": [
    "probabilities = pd.Series(\n",
    "    {\n",
    "        'hearts': .25,\n",
    "        'diamonds' : .25,\n",
    "        'spades' : .25,\n",
    "        'clubs': .25,\n",
    "    }\n",
    ")\n",
    "probabilities"
   ]
  },
  {
   "cell_type": "markdown",
   "metadata": {},
   "source": [
    "### Pearson's “goodness of fit” test statistic"
   ]
  },
  {
   "cell_type": "markdown",
   "metadata": {},
   "source": [
    "As always, if we want to test $H_0$ against $H_1$, we’re going to need a test statistic. The basic trick that a goodness of fit test uses is to construct a test statistic that measures how “close” the data are to the null hypothesis. If the data don’t resemble what you’d “expect” to see if the null hypothesis were true, then it probably isn’t true. Okay, if the null hypothesis were true, what would we expect to see? Or, to use the correct terminology, what are the **expected frequencies**?. There are $N=200$ observations, and (if the null is true) the probability of any one of them choosing a heart is $P_3$, so I guess we’re expecting $200 \\times .25 = 50$ hearts, right? Or, more specifically, if we let $E_i$ refer to “the number of category\n",
    "responses that we’re expecting if the null is true”, then\n",
    "\n",
    "$$E_i=N \\times P_i$$"
   ]
  },
  {
   "cell_type": "code",
   "execution_count": 5,
   "metadata": {},
   "outputs": [
    {
     "data": {
      "text/plain": [
       "hearts      50.0\n",
       "diamonds    50.0\n",
       "spades      50.0\n",
       "clubs       50.0\n",
       "dtype: float64"
      ]
     },
     "execution_count": 5,
     "metadata": {},
     "output_type": "execute_result"
    }
   ],
   "source": [
    "N = 200\n",
    "expected = N * probabilities\n",
    "expected"
   ]
  },
  {
   "cell_type": "code",
   "execution_count": 6,
   "metadata": {},
   "outputs": [
    {
     "data": {
      "text/plain": [
       "choice_1\n",
       "hearts      14.0\n",
       "diamonds     1.0\n",
       "spades       0.0\n",
       "clubs      -15.0\n",
       "dtype: float64"
      ]
     },
     "execution_count": 6,
     "metadata": {},
     "output_type": "execute_result"
    }
   ],
   "source": [
    "observed - expected"
   ]
  },
  {
   "cell_type": "code",
   "execution_count": 7,
   "metadata": {},
   "outputs": [
    {
     "data": {
      "text/plain": [
       "choice_1\n",
       "hearts      196.0\n",
       "diamonds      1.0\n",
       "spades        0.0\n",
       "clubs       225.0\n",
       "dtype: float64"
      ]
     },
     "execution_count": 7,
     "metadata": {},
     "output_type": "execute_result"
    }
   ],
   "source": [
    "# squared differences\n",
    "(observed - expected)**2"
   ]
  },
  {
   "cell_type": "markdown",
   "metadata": {},
   "source": [
    "Divide all these numbers by the expected frequency $E_1$, so we’re actually calculating $\\frac{(E_i-O_i)^2}{E_i}$. Since $E_i=50$ for all categories in our example, it’s not a very interesting calculation, but let’s do it anyway"
   ]
  },
  {
   "cell_type": "code",
   "execution_count": 8,
   "metadata": {},
   "outputs": [
    {
     "data": {
      "text/plain": [
       "choice_1\n",
       "hearts      3.92\n",
       "diamonds    0.02\n",
       "spades      0.00\n",
       "clubs       4.50\n",
       "dtype: float64"
      ]
     },
     "execution_count": 8,
     "metadata": {},
     "output_type": "execute_result"
    }
   ],
   "source": [
    "(observed - expected)**2 / expected"
   ]
  },
  {
   "cell_type": "markdown",
   "metadata": {},
   "source": [
    "**Goodness of fit statistic**"
   ]
  },
  {
   "cell_type": "code",
   "execution_count": 9,
   "metadata": {},
   "outputs": [
    {
     "data": {
      "text/plain": [
       "8.44"
      ]
     },
     "execution_count": 9,
     "metadata": {},
     "output_type": "execute_result"
    }
   ],
   "source": [
    "sum((observed - expected)**2 / expected)"
   ]
  },
  {
   "cell_type": "markdown",
   "metadata": {},
   "source": [
    "### Sampling distribution of GOF statistic"
   ]
  },
  {
   "cell_type": "markdown",
   "metadata": {},
   "source": [
    "To determine whether or not a particular value of $X_2$ is large enough to justify rejecting the null hypothesis, we’re going to need to figure out what the sampling distribution for $X_2$ would be if the null hypothesis were true. So that’s what I’m going to do in this section. I’ll show you in a fair amount of detail how this sampling distribution is constructed, and then – in the next section – use it to build up a hypothesis test."
   ]
  },
  {
   "cell_type": "code",
   "execution_count": 11,
   "metadata": {},
   "outputs": [],
   "source": [
    "import seaborn as sns\n",
    "import numpy as np\n",
    "from scipy.stats import chi2"
   ]
  },
  {
   "cell_type": "code",
   "execution_count": 15,
   "metadata": {},
   "outputs": [
    {
     "data": {
      "image/png": "[encoded data removed]",
      "text/plain": [
       "<Figure size 640x480 with 1 Axes>"
      ]
     },
     "metadata": {},
     "output_type": "display_data"
    }
   ],
   "source": [
    "x = np.linspace(0, 10, 100)\n",
    "\n",
    "y3 = chi2.pdf(x, df=3)\n",
    "y4 = chi2.pdf(x, df=4)\n",
    "y5 = chi2.pdf(x, df=5)\n",
    "labels = ['df = 3']*len(x) + ['df = 4']*len(x) + ['df = 5']*len(x)\n",
    "y = list(y3)+list(y4)+list(y5)\n",
    "x = list(x)*3\n",
    "\n",
    "df = pd.DataFrame(\n",
    "    {'y': y,\n",
    "     'x': x,\n",
    "     'df': labels\n",
    "    }) \n",
    "\n",
    "fig = sns.lineplot(x= \"x\", y= \"y\",\n",
    "             style=\"df\",\n",
    "             data=df)\n",
    "\n",
    "sns.despine()"
   ]
  },
  {
   "cell_type": "markdown",
   "metadata": {},
   "source": [
    "### Testing the null hypothesis"
   ]
  },
  {
   "cell_type": "code",
   "execution_count": 16,
   "metadata": {},
   "outputs": [
    {
     "data": {
      "text/plain": [
       "[Text(0.5, 0, 'Value of the GOF Statistic'), Text(0, 0.5, '')]"
      ]
     },
     "execution_count": 16,
     "metadata": {},
     "output_type": "execute_result"
    },
    {
     "data": {
      "image/png": "[encoded data removed]",
      "text/plain": [
       "<Figure size 640x480 with 1 Axes>"
      ]
     },
     "metadata": {},
     "output_type": "display_data"
    }
   ],
   "source": [
    "\n",
    "x = np.linspace(0, 14, 100)\n",
    "\n",
    "y = chi2.pdf(x, df=3)\n",
    "\n",
    "df = pd.DataFrame(\n",
    "    {'y': y,\n",
    "     'x': x\n",
    "    }) \n",
    "\n",
    "fig = sns.lineplot(x= \"x\", y= \"y\",\n",
    "             data=df)\n",
    "critical_value = chi2.ppf(0.95, 3)\n",
    "fig.fill_between(x, 0, y, where = x > critical_value-0.1, color = 'blue', alpha = 0.3)\n",
    "\n",
    "fig.annotate(\"The observed GOF value is 8.44\", xy=(8.44, 0), xytext=(10, 0.12), arrowprops={\"arrowstyle\":\"->\", \"color\":\"black\"})\n",
    "fig.annotate(\"The critical value is 7.81\", xy=(critical_value, 0), xytext=(6, 0.15), arrowprops={\"arrowstyle\":\"->\", \"color\":\"black\"})\n",
    "fig.set(xlabel = 'Value of the GOF Statistic', ylabel='')"
   ]
  },
  {
   "cell_type": "code",
   "execution_count": 17,
   "metadata": {},
   "outputs": [
    {
     "data": {
      "text/plain": [
       "7.81"
      ]
     },
     "execution_count": 17,
     "metadata": {},
     "output_type": "execute_result"
    }
   ],
   "source": [
    "round(chi2.ppf(0.95, 3), 2)"
   ]
  },
  {
   "cell_type": "code",
   "execution_count": 18,
   "metadata": {},
   "outputs": [
    {
     "data": {
      "text/plain": [
       "Power_divergenceResult(statistic=8.44, pvalue=0.0377418520240214)"
      ]
     },
     "execution_count": 18,
     "metadata": {},
     "output_type": "execute_result"
    }
   ],
   "source": [
    "from scipy.stats import chisquare\n",
    "chisquare(f_obs=observed, f_exp=expected)"
   ]
  },
  {
   "cell_type": "markdown",
   "metadata": {},
   "source": [
    "### Complete"
   ]
  },
  {
   "cell_type": "code",
   "execution_count": 20,
   "metadata": {},
   "outputs": [
    {
     "name": "stdout",
     "output_type": "stream",
     "text": [
      "x2 = 8.44\n",
      " p = 0.038\n"
     ]
    }
   ],
   "source": [
    "import pandas as pd\n",
    "from scipy.stats import chisquare\n",
    "\n",
    "df = pd.read_csv('https://raw.githubusercontent.com/ethanweed/pythonbook/main/Data/cards.csv')\n",
    "\n",
    "ans = chisquare(f_obs = df['choice_1'].value_counts())\n",
    "\n",
    "print(f\"x2 = {ans[0]}\\n p = {round(ans[1],3)}\")"
   ]
  },
  {
   "cell_type": "markdown",
   "metadata": {},
   "source": [
    "### Specifying a different null hypothesis"
   ]
  },
  {
   "cell_type": "code",
   "execution_count": 21,
   "metadata": {},
   "outputs": [
    {
     "data": {
      "text/plain": [
       "hearts      0.3\n",
       "diamonds    0.3\n",
       "spades      0.2\n",
       "clubs       0.2\n",
       "dtype: float64"
      ]
     },
     "execution_count": 21,
     "metadata": {},
     "output_type": "execute_result"
    }
   ],
   "source": [
    "null_probs = pd.Series(\n",
    "    {\n",
    "        'hearts': .3,\n",
    "        'diamonds' : .3,\n",
    "        'spades' : .2,\n",
    "        'clubs': .2,\n",
    "    }\n",
    ")\n",
    "null_probs"
   ]
  },
  {
   "cell_type": "code",
   "execution_count": 22,
   "metadata": {},
   "outputs": [
    {
     "name": "stdout",
     "output_type": "stream",
     "text": [
      "x2 = 4.741666666666667\n",
      " p = 0.192\n"
     ]
    }
   ],
   "source": [
    "observed = df.choice_1.value_counts()\n",
    "expected = null_probs * sum(observed)\n",
    "ans = chisquare(f_obs=observed, f_exp=expected)\n",
    "print(f\"x2 = {ans[0]}\\n p = {round(ans[1],3)}\")"
   ]
  },
  {
   "cell_type": "markdown",
   "metadata": {},
   "source": [
    "### Reporting results\n",
    "\n",
    ">Of the 200 participants in the experiment, 64 selected hearts for their first choice, 51 selected diamonds, 50 selected spades, and 35 selected clubs. A chi-square goodness of fit test was conducted to test whether the choice probabilities were identical for all four suits. The results were significant ($\\chi^2(3)=8.44,p<.05$), suggesting that people did not select suits purely at random.\n",
    "\n",
    "Note:\n",
    "- The statistical test is preceded by the descriptive statistics\n",
    "- The description tells you the null hypothesis\n",
    "- A stat block is included reporting the relevant statistics"
   ]
  },
  {
   "cell_type": "markdown",
   "metadata": {},
   "source": [
    "## $\\chi^2$ test of independence (association)"
   ]
  },
  {
   "cell_type": "markdown",
   "metadata": {},
   "source": [
    "Determine whether someone is a human or a robot based on their preference between flowers, puppies or data. Do humans and robots have different preferences?"
   ]
  },
  {
   "cell_type": "code",
   "execution_count": 23,
   "metadata": {},
   "outputs": [
    {
     "data": {
      "text/html": [
       "<div>\n",
       "<style scoped>\n",
       "    .dataframe tbody tr th:only-of-type {\n",
       "        vertical-align: middle;\n",
       "    }\n",
       "\n",
       "    .dataframe tbody tr th {\n",
       "        vertical-align: top;\n",
       "    }\n",
       "\n",
       "    .dataframe thead th {\n",
       "        text-align: right;\n",
       "    }\n",
       "</style>\n",
       "<table border=\"1\" class=\"dataframe\">\n",
       "  <thead>\n",
       "    <tr style=\"text-align: right;\">\n",
       "      <th></th>\n",
       "      <th>species</th>\n",
       "      <th>choice</th>\n",
       "    </tr>\n",
       "  </thead>\n",
       "  <tbody>\n",
       "    <tr>\n",
       "      <th>0</th>\n",
       "      <td>robot</td>\n",
       "      <td>flower</td>\n",
       "    </tr>\n",
       "    <tr>\n",
       "      <th>1</th>\n",
       "      <td>human</td>\n",
       "      <td>data</td>\n",
       "    </tr>\n",
       "    <tr>\n",
       "      <th>2</th>\n",
       "      <td>human</td>\n",
       "      <td>data</td>\n",
       "    </tr>\n",
       "    <tr>\n",
       "      <th>3</th>\n",
       "      <td>human</td>\n",
       "      <td>data</td>\n",
       "    </tr>\n",
       "    <tr>\n",
       "      <th>4</th>\n",
       "      <td>robot</td>\n",
       "      <td>data</td>\n",
       "    </tr>\n",
       "  </tbody>\n",
       "</table>\n",
       "</div>"
      ],
      "text/plain": [
       "  species  choice\n",
       "0   robot  flower\n",
       "1   human    data\n",
       "2   human    data\n",
       "3   human    data\n",
       "4   robot    data"
      ]
     },
     "execution_count": 23,
     "metadata": {},
     "output_type": "execute_result"
    }
   ],
   "source": [
    "df = pd.read_csv('https://raw.githubusercontent.com/ethanweed/pythonbook/main/Data/chapek9.csv')\n",
    "df.head()"
   ]
  },
  {
   "cell_type": "code",
   "execution_count": 24,
   "metadata": {},
   "outputs": [
    {
     "data": {
      "text/html": [
       "<div>\n",
       "<style scoped>\n",
       "    .dataframe tbody tr th:only-of-type {\n",
       "        vertical-align: middle;\n",
       "    }\n",
       "\n",
       "    .dataframe tbody tr th {\n",
       "        vertical-align: top;\n",
       "    }\n",
       "\n",
       "    .dataframe thead th {\n",
       "        text-align: right;\n",
       "    }\n",
       "</style>\n",
       "<table border=\"1\" class=\"dataframe\">\n",
       "  <thead>\n",
       "    <tr style=\"text-align: right;\">\n",
       "      <th></th>\n",
       "      <th>species</th>\n",
       "      <th>choice</th>\n",
       "    </tr>\n",
       "  </thead>\n",
       "  <tbody>\n",
       "    <tr>\n",
       "      <th>count</th>\n",
       "      <td>180</td>\n",
       "      <td>180</td>\n",
       "    </tr>\n",
       "    <tr>\n",
       "      <th>unique</th>\n",
       "      <td>2</td>\n",
       "      <td>3</td>\n",
       "    </tr>\n",
       "    <tr>\n",
       "      <th>top</th>\n",
       "      <td>human</td>\n",
       "      <td>data</td>\n",
       "    </tr>\n",
       "    <tr>\n",
       "      <th>freq</th>\n",
       "      <td>93</td>\n",
       "      <td>109</td>\n",
       "    </tr>\n",
       "  </tbody>\n",
       "</table>\n",
       "</div>"
      ],
      "text/plain": [
       "       species choice\n",
       "count      180    180\n",
       "unique       2      3\n",
       "top      human   data\n",
       "freq        93    109"
      ]
     },
     "execution_count": 24,
     "metadata": {},
     "output_type": "execute_result"
    }
   ],
   "source": [
    "df.describe()"
   ]
  },
  {
   "cell_type": "code",
   "execution_count": 26,
   "metadata": {},
   "outputs": [
    {
     "data": {
      "text/html": [
       "<div>\n",
       "<style scoped>\n",
       "    .dataframe tbody tr th:only-of-type {\n",
       "        vertical-align: middle;\n",
       "    }\n",
       "\n",
       "    .dataframe tbody tr th {\n",
       "        vertical-align: top;\n",
       "    }\n",
       "\n",
       "    .dataframe thead th {\n",
       "        text-align: right;\n",
       "    }\n",
       "</style>\n",
       "<table border=\"1\" class=\"dataframe\">\n",
       "  <thead>\n",
       "    <tr style=\"text-align: right;\">\n",
       "      <th>species</th>\n",
       "      <th>human</th>\n",
       "      <th>robot</th>\n",
       "      <th>All</th>\n",
       "    </tr>\n",
       "    <tr>\n",
       "      <th>choice</th>\n",
       "      <th></th>\n",
       "      <th></th>\n",
       "      <th></th>\n",
       "    </tr>\n",
       "  </thead>\n",
       "  <tbody>\n",
       "    <tr>\n",
       "      <th>data</th>\n",
       "      <td>65</td>\n",
       "      <td>44</td>\n",
       "      <td>109</td>\n",
       "    </tr>\n",
       "    <tr>\n",
       "      <th>flower</th>\n",
       "      <td>13</td>\n",
       "      <td>30</td>\n",
       "      <td>43</td>\n",
       "    </tr>\n",
       "    <tr>\n",
       "      <th>puppy</th>\n",
       "      <td>15</td>\n",
       "      <td>13</td>\n",
       "      <td>28</td>\n",
       "    </tr>\n",
       "    <tr>\n",
       "      <th>All</th>\n",
       "      <td>93</td>\n",
       "      <td>87</td>\n",
       "      <td>180</td>\n",
       "    </tr>\n",
       "  </tbody>\n",
       "</table>\n",
       "</div>"
      ],
      "text/plain": [
       "species  human  robot  All\n",
       "choice                    \n",
       "data        65     44  109\n",
       "flower      13     30   43\n",
       "puppy       15     13   28\n",
       "All         93     87  180"
      ]
     },
     "execution_count": 26,
     "metadata": {},
     "output_type": "execute_result"
    }
   ],
   "source": [
    "pd.crosstab(index=df.choice, columns=df.species, margins=True)"
   ]
  },
  {
   "cell_type": "markdown",
   "metadata": {},
   "source": [
    "### Construct hypothesis test\n",
    "\n",
    "Notation\n",
    "\n",
    "||Robot|Human|Total|\n",
    "|---|---|---|---|\n",
    "|Puppy|$O_{11}$|$O_{12}$|$R_{1}$|\n",
    "|Flower|$O_{21}$|$O_{22}$|$R_{2}$|\n",
    "|Data file|$O_{31}$|$O_{32}$|$R_{3}$|\n",
    "|Total|$C_{1}$|$C_{2}$|$N$|\n",
    "\n",
    "$O_{ij}$ is the count of the number of respondents of species $j$ who gave the answer $i$."
   ]
  },
  {
   "cell_type": "markdown",
   "metadata": {},
   "source": [
    "$H_0$: Robots and humans have the same preference, so\n",
    "- $P_{11} = P_{12}$\n",
    "- $P_{21} = P_{22}$\n",
    "- $P_{31} = P_{32}$\n",
    "\n",
    "Since the null hypothesis claims the choice is independent of species, the probability for choosing puppy can be $P_1$."
   ]
  },
  {
   "cell_type": "markdown",
   "metadata": {},
   "source": [
    "Calculate expected frequencies.\n",
    "\n",
    "If there are $C_j$ members of a species, the expexted frequency $E$ would be\n",
    "$$E_{ij}=C_j \\times P_i$$\n",
    "Use row totals to estimate probability.\n",
    "$$\\hat{P}_i=\\frac{R_i}{N}$$"
   ]
  },
  {
   "cell_type": "markdown",
   "metadata": {},
   "source": [
    "$$E_{ij}=\\frac{R_i \\times C_j}{N}$$"
   ]
  },
  {
   "cell_type": "markdown",
   "metadata": {},
   "source": [
    "**The $X^2$ statistic**\n",
    "\n",
    "$$X^2=\\sum_{i=1}^r\\sum_{j=1}^{c}\\frac{(E_{ij}-O{ij})^2}{E_{ij}}$$"
   ]
  },
  {
   "cell_type": "markdown",
   "metadata": {},
   "source": [
    "**Degrees of Freedom**\n",
    "\n",
    "$$df = (r-1)(c-1)$$"
   ]
  },
  {
   "cell_type": "markdown",
   "metadata": {},
   "source": [
    "### Doing the test with scipy.stats"
   ]
  },
  {
   "cell_type": "code",
   "execution_count": 27,
   "metadata": {},
   "outputs": [
    {
     "data": {
      "text/html": [
       "<div>\n",
       "<style scoped>\n",
       "    .dataframe tbody tr th:only-of-type {\n",
       "        vertical-align: middle;\n",
       "    }\n",
       "\n",
       "    .dataframe tbody tr th {\n",
       "        vertical-align: top;\n",
       "    }\n",
       "\n",
       "    .dataframe thead th {\n",
       "        text-align: right;\n",
       "    }\n",
       "</style>\n",
       "<table border=\"1\" class=\"dataframe\">\n",
       "  <thead>\n",
       "    <tr style=\"text-align: right;\">\n",
       "      <th>species</th>\n",
       "      <th>human</th>\n",
       "      <th>robot</th>\n",
       "    </tr>\n",
       "    <tr>\n",
       "      <th>choice</th>\n",
       "      <th></th>\n",
       "      <th></th>\n",
       "    </tr>\n",
       "  </thead>\n",
       "  <tbody>\n",
       "    <tr>\n",
       "      <th>data</th>\n",
       "      <td>65</td>\n",
       "      <td>44</td>\n",
       "    </tr>\n",
       "    <tr>\n",
       "      <th>flower</th>\n",
       "      <td>13</td>\n",
       "      <td>30</td>\n",
       "    </tr>\n",
       "    <tr>\n",
       "      <th>puppy</th>\n",
       "      <td>15</td>\n",
       "      <td>13</td>\n",
       "    </tr>\n",
       "  </tbody>\n",
       "</table>\n",
       "</div>"
      ],
      "text/plain": [
       "species  human  robot\n",
       "choice               \n",
       "data        65     44\n",
       "flower      13     30\n",
       "puppy       15     13"
      ]
     },
     "execution_count": 27,
     "metadata": {},
     "output_type": "execute_result"
    }
   ],
   "source": [
    "observations = pd.crosstab(index=df.choice, columns=df.species, margins=False)\n",
    "observations"
   ]
  },
  {
   "cell_type": "code",
   "execution_count": 31,
   "metadata": {},
   "outputs": [
    {
     "name": "stdout",
     "output_type": "stream",
     "text": [
      "chi2 = \t\t\t10.721571792595633\n",
      "p = \t\t\t0.004697213134214071\n",
      "Degrees of freedom = \t2\n",
      "expected = \n",
      "[[56.31666667 52.68333333]\n",
      " [22.21666667 20.78333333]\n",
      " [14.46666667 13.53333333]]\n"
     ]
    }
   ],
   "source": [
    "from scipy.stats import chi2_contingency\n",
    "\n",
    "chi2, p, dof, ex = chi2_contingency(observations)\n",
    "\n",
    "print(f'chi2 = \\t\\t\\t{chi2}')\n",
    "print(f'p = \\t\\t\\t{p}')\n",
    "print(f'Degrees of freedom = \\t{dof}')\n",
    "print(f'expected = \\n{ex}')"
   ]
  },
  {
   "cell_type": "code",
   "execution_count": 32,
   "metadata": {},
   "outputs": [],
   "source": [
    "import pingouin as pg"
   ]
  },
  {
   "cell_type": "code",
   "execution_count": 33,
   "metadata": {},
   "outputs": [],
   "source": [
    "expected, observed, stats = pg.chi2_independence(df, \n",
    "                                                 x='species',\n",
    "                                                 y='choice')"
   ]
  },
  {
   "cell_type": "code",
   "execution_count": 34,
   "metadata": {},
   "outputs": [
    {
     "name": "stdout",
     "output_type": "stream",
     "text": [
      "scipy's expected frequency \n",
      "[[56.31666667 52.68333333]\n",
      " [22.21666667 20.78333333]\n",
      " [14.46666667 13.53333333]]\n",
      "pingouin's expected:\n",
      "choice        data     flower      puppy\n",
      "species                                 \n",
      "human    56.316667  22.216667  14.466667\n",
      "robot    52.683333  20.783333  13.533333\n"
     ]
    }
   ],
   "source": [
    "print(f\"scipy's expected frequency \\n{ex}\")\n",
    "print(f\"pingouin's expected:\\n{expected}\")"
   ]
  },
  {
   "cell_type": "code",
   "execution_count": 37,
   "metadata": {},
   "outputs": [
    {
     "name": "stdout",
     "output_type": "stream",
     "text": [
      "species  human  robot\n",
      "choice               \n",
      "data        65     44\n",
      "flower      13     30\n",
      "puppy       15     13\n",
      "species  human  robot\n",
      "choice               \n",
      "data        65     44\n",
      "flower      13     30\n",
      "puppy       15     13\n"
     ]
    }
   ],
   "source": [
    "observed_manual = pd.crosstab(index=df[\"choice\"], columns=df[\"species\"],margins=False)\n",
    "print(observed_manual)\n",
    "print(observed.T)"
   ]
  },
  {
   "cell_type": "code",
   "execution_count": 38,
   "metadata": {},
   "outputs": [
    {
     "data": {
      "text/html": [
       "<div>\n",
       "<style scoped>\n",
       "    .dataframe tbody tr th:only-of-type {\n",
       "        vertical-align: middle;\n",
       "    }\n",
       "\n",
       "    .dataframe tbody tr th {\n",
       "        vertical-align: top;\n",
       "    }\n",
       "\n",
       "    .dataframe thead th {\n",
       "        text-align: right;\n",
       "    }\n",
       "</style>\n",
       "<table border=\"1\" class=\"dataframe\">\n",
       "  <thead>\n",
       "    <tr style=\"text-align: right;\">\n",
       "      <th></th>\n",
       "      <th>test</th>\n",
       "      <th>lambda</th>\n",
       "      <th>chi2</th>\n",
       "      <th>dof</th>\n",
       "      <th>pval</th>\n",
       "      <th>cramer</th>\n",
       "      <th>power</th>\n",
       "    </tr>\n",
       "  </thead>\n",
       "  <tbody>\n",
       "    <tr>\n",
       "      <th>0</th>\n",
       "      <td>pearson</td>\n",
       "      <td>1.000000</td>\n",
       "      <td>10.721572</td>\n",
       "      <td>2.0</td>\n",
       "      <td>0.004697</td>\n",
       "      <td>0.244058</td>\n",
       "      <td>0.842961</td>\n",
       "    </tr>\n",
       "    <tr>\n",
       "      <th>1</th>\n",
       "      <td>cressie-read</td>\n",
       "      <td>0.666667</td>\n",
       "      <td>10.757745</td>\n",
       "      <td>2.0</td>\n",
       "      <td>0.004613</td>\n",
       "      <td>0.244469</td>\n",
       "      <td>0.844244</td>\n",
       "    </tr>\n",
       "    <tr>\n",
       "      <th>2</th>\n",
       "      <td>log-likelihood</td>\n",
       "      <td>0.000000</td>\n",
       "      <td>10.922195</td>\n",
       "      <td>2.0</td>\n",
       "      <td>0.004249</td>\n",
       "      <td>0.246331</td>\n",
       "      <td>0.849966</td>\n",
       "    </tr>\n",
       "    <tr>\n",
       "      <th>3</th>\n",
       "      <td>freeman-tukey</td>\n",
       "      <td>-0.500000</td>\n",
       "      <td>11.131562</td>\n",
       "      <td>2.0</td>\n",
       "      <td>0.003827</td>\n",
       "      <td>0.248681</td>\n",
       "      <td>0.856988</td>\n",
       "    </tr>\n",
       "    <tr>\n",
       "      <th>4</th>\n",
       "      <td>mod-log-likelihood</td>\n",
       "      <td>-1.000000</td>\n",
       "      <td>11.421716</td>\n",
       "      <td>2.0</td>\n",
       "      <td>0.003310</td>\n",
       "      <td>0.251901</td>\n",
       "      <td>0.866249</td>\n",
       "    </tr>\n",
       "    <tr>\n",
       "      <th>5</th>\n",
       "      <td>neyman</td>\n",
       "      <td>-2.000000</td>\n",
       "      <td>12.280435</td>\n",
       "      <td>2.0</td>\n",
       "      <td>0.002154</td>\n",
       "      <td>0.261198</td>\n",
       "      <td>0.890668</td>\n",
       "    </tr>\n",
       "  </tbody>\n",
       "</table>\n",
       "</div>"
      ],
      "text/plain": [
       "                 test    lambda       chi2  dof      pval    cramer     power\n",
       "0             pearson  1.000000  10.721572  2.0  0.004697  0.244058  0.842961\n",
       "1        cressie-read  0.666667  10.757745  2.0  0.004613  0.244469  0.844244\n",
       "2      log-likelihood  0.000000  10.922195  2.0  0.004249  0.246331  0.849966\n",
       "3       freeman-tukey -0.500000  11.131562  2.0  0.003827  0.248681  0.856988\n",
       "4  mod-log-likelihood -1.000000  11.421716  2.0  0.003310  0.251901  0.866249\n",
       "5              neyman -2.000000  12.280435  2.0  0.002154  0.261198  0.890668"
      ]
     },
     "execution_count": 38,
     "metadata": {},
     "output_type": "execute_result"
    }
   ],
   "source": [
    "stats"
   ]
  },
  {
   "cell_type": "markdown",
   "metadata": {},
   "source": [
    "### Write up result\n",
    "\n",
    ">Pearson’s $\\chi^2$ revealed a significant association between species and choice ($\\chi^2(2) = 10.7, p \\lt .01$): robots appeared to be more likely to say that they prefer flowers, but the humans were more likely to say they prefer data."
   ]
  },
  {
   "cell_type": "markdown",
   "metadata": {},
   "source": [
    "## Effect Size"
   ]
  },
  {
   "cell_type": "markdown",
   "metadata": {},
   "source": [
    "Several different measures exist, most common being the $\\phi$ statistic or Cram'er's $V$.\n",
    "\n",
    "$$\\phi = \\sqrt{\\frac{X^2}{N}}$$\n",
    "$$V = \\sqrt{\\frac{X^2}{N(k-1)}}"
   ]
  },
  {
   "cell_type": "markdown",
   "metadata": {},
   "source": [
    "## Test assumptions\n",
    "\n",
    "- Expected frequencies are sufficiently large\n",
    "- Data are independent of one another"
   ]
  },
  {
   "cell_type": "markdown",
   "metadata": {},
   "source": [
    "## Fisher exact test\n",
    "\n",
    "Used when little data exists"
   ]
  },
  {
   "cell_type": "code",
   "execution_count": 39,
   "metadata": {},
   "outputs": [
    {
     "data": {
      "text/html": [
       "<div>\n",
       "<style scoped>\n",
       "    .dataframe tbody tr th:only-of-type {\n",
       "        vertical-align: middle;\n",
       "    }\n",
       "\n",
       "    .dataframe tbody tr th {\n",
       "        vertical-align: top;\n",
       "    }\n",
       "\n",
       "    .dataframe thead th {\n",
       "        text-align: right;\n",
       "    }\n",
       "</style>\n",
       "<table border=\"1\" class=\"dataframe\">\n",
       "  <thead>\n",
       "    <tr style=\"text-align: right;\">\n",
       "      <th></th>\n",
       "      <th>happy</th>\n",
       "      <th>on.fire</th>\n",
       "    </tr>\n",
       "  </thead>\n",
       "  <tbody>\n",
       "    <tr>\n",
       "      <th>0</th>\n",
       "      <td>True</td>\n",
       "      <td>False</td>\n",
       "    </tr>\n",
       "    <tr>\n",
       "      <th>1</th>\n",
       "      <td>True</td>\n",
       "      <td>False</td>\n",
       "    </tr>\n",
       "    <tr>\n",
       "      <th>2</th>\n",
       "      <td>False</td>\n",
       "      <td>False</td>\n",
       "    </tr>\n",
       "    <tr>\n",
       "      <th>3</th>\n",
       "      <td>False</td>\n",
       "      <td>True</td>\n",
       "    </tr>\n",
       "    <tr>\n",
       "      <th>4</th>\n",
       "      <td>True</td>\n",
       "      <td>False</td>\n",
       "    </tr>\n",
       "  </tbody>\n",
       "</table>\n",
       "</div>"
      ],
      "text/plain": [
       "   happy  on.fire\n",
       "0   True    False\n",
       "1   True    False\n",
       "2  False    False\n",
       "3  False     True\n",
       "4   True    False"
      ]
     },
     "execution_count": 39,
     "metadata": {},
     "output_type": "execute_result"
    }
   ],
   "source": [
    "df = pd.read_csv('https://raw.githubusercontent.com/ethanweed/pythonbook/main/Data/salem.csv')\n",
    "df.head()"
   ]
  },
  {
   "cell_type": "code",
   "execution_count": 40,
   "metadata": {},
   "outputs": [
    {
     "data": {
      "text/html": [
       "<div>\n",
       "<style scoped>\n",
       "    .dataframe tbody tr th:only-of-type {\n",
       "        vertical-align: middle;\n",
       "    }\n",
       "\n",
       "    .dataframe tbody tr th {\n",
       "        vertical-align: top;\n",
       "    }\n",
       "\n",
       "    .dataframe thead th {\n",
       "        text-align: right;\n",
       "    }\n",
       "</style>\n",
       "<table border=\"1\" class=\"dataframe\">\n",
       "  <thead>\n",
       "    <tr style=\"text-align: right;\">\n",
       "      <th>on.fire</th>\n",
       "      <th>False</th>\n",
       "      <th>True</th>\n",
       "    </tr>\n",
       "    <tr>\n",
       "      <th>happy</th>\n",
       "      <th></th>\n",
       "      <th></th>\n",
       "    </tr>\n",
       "  </thead>\n",
       "  <tbody>\n",
       "    <tr>\n",
       "      <th>False</th>\n",
       "      <td>3</td>\n",
       "      <td>3</td>\n",
       "    </tr>\n",
       "    <tr>\n",
       "      <th>True</th>\n",
       "      <td>10</td>\n",
       "      <td>0</td>\n",
       "    </tr>\n",
       "  </tbody>\n",
       "</table>\n",
       "</div>"
      ],
      "text/plain": [
       "on.fire  False  True \n",
       "happy                \n",
       "False        3      3\n",
       "True        10      0"
      ]
     },
     "execution_count": 40,
     "metadata": {},
     "output_type": "execute_result"
    }
   ],
   "source": [
    "pd.crosstab(index=df.happy, columns=[df['on.fire']], margins=False)"
   ]
  },
  {
   "cell_type": "markdown",
   "metadata": {},
   "source": [
    "||Happy|Sad|Total|\n",
    "|---|---|---|---|\n",
    "|Set on fire|$O_{11}$|$O_{12}$|$R_{1}$|\n",
    "|Not set on fire|$O_{21}$|$O_{22}$|$R_{2}$|\n",
    "|Total|$C_{1}$|$C_{2}$|$N$|\n",
    "\n",
    "The probability is described by the *hypergeometric distribution*.\n",
    "\n",
    "$$P(O_{11}, O_{12}, O_{21}, O_{22} \\ | \\ R_1, R_2, C_1, C_2)$$"
   ]
  },
  {
   "cell_type": "code",
   "execution_count": 41,
   "metadata": {},
   "outputs": [
    {
     "name": "stdout",
     "output_type": "stream",
     "text": [
      "pvalue=0.03571428571428571\n"
     ]
    }
   ],
   "source": [
    "from scipy.stats import fisher_exact\n",
    "freq_table = pd.crosstab(index=df.happy, columns=[df['on.fire']], margins=False)\n",
    "\n",
    "oddsratio, pvalue = fisher_exact(freq_table)\n",
    "print(f'{pvalue=}')"
   ]
  },
  {
   "cell_type": "markdown",
   "metadata": {},
   "source": [
    "## The McNemar test"
   ]
  },
  {
   "cell_type": "markdown",
   "metadata": {},
   "source": [
    "When comparing the same population at two points in time, independence is violated so the Pearson $\\chi^2$ test cannot be used. The datat can be recast however, in this form:\n",
    "\n",
    "||Before: Yes|Before: No|Total|\n",
    "|---|---|---|---|\n",
    "|After: Yes|5|5|10|\n",
    "|After: No|25|65|90|\n",
    "|Total|30|70|100|\n",
    "\n",
    "Notice:\n",
    "\n",
    "||Before: Yes|Before: No|Total|\n",
    "|---|---|---|---|\n",
    "|After: Yes|$a$|$b$|$a+b$|\n",
    "|After: No|$c$|$d$|$c+d$|\n",
    "|Total|$a+c$|$b+c$|$n$|\n",
    "\n",
    "In this case, we can test if the row and column totals are the same, ie. $P_a+P_b=P-a+P_c$ and $P_c+P_d=P-b+P_d$, or simply $P_b=P_c$.\n",
    "\n",
    "$$X^2 = \\frac{(|b-c| - 0.5)^2}{b+c}$$\n",
    "\n",
    "or\n",
    "\n",
    "$$X^2 = \\frac{(|O_{12}-O_{21}| - 0.5)^2}{O_{12} + O_{21}}$$\n",
    "\n",
    "which as approximately an $\\chi^2$ distribution with $df=1$."
   ]
  },
  {
   "cell_type": "code",
   "execution_count": 42,
   "metadata": {},
   "outputs": [
    {
     "data": {
      "text/html": [
       "<div>\n",
       "<style scoped>\n",
       "    .dataframe tbody tr th:only-of-type {\n",
       "        vertical-align: middle;\n",
       "    }\n",
       "\n",
       "    .dataframe tbody tr th {\n",
       "        vertical-align: top;\n",
       "    }\n",
       "\n",
       "    .dataframe thead th {\n",
       "        text-align: right;\n",
       "    }\n",
       "</style>\n",
       "<table border=\"1\" class=\"dataframe\">\n",
       "  <thead>\n",
       "    <tr style=\"text-align: right;\">\n",
       "      <th></th>\n",
       "      <th>id</th>\n",
       "      <th>response_before</th>\n",
       "      <th>response_after</th>\n",
       "    </tr>\n",
       "  </thead>\n",
       "  <tbody>\n",
       "    <tr>\n",
       "      <th>0</th>\n",
       "      <td>subj.1</td>\n",
       "      <td>no</td>\n",
       "      <td>yes</td>\n",
       "    </tr>\n",
       "    <tr>\n",
       "      <th>1</th>\n",
       "      <td>subj.2</td>\n",
       "      <td>yes</td>\n",
       "      <td>no</td>\n",
       "    </tr>\n",
       "    <tr>\n",
       "      <th>2</th>\n",
       "      <td>subj.3</td>\n",
       "      <td>yes</td>\n",
       "      <td>no</td>\n",
       "    </tr>\n",
       "    <tr>\n",
       "      <th>3</th>\n",
       "      <td>subj.4</td>\n",
       "      <td>yes</td>\n",
       "      <td>no</td>\n",
       "    </tr>\n",
       "    <tr>\n",
       "      <th>4</th>\n",
       "      <td>subj.5</td>\n",
       "      <td>no</td>\n",
       "      <td>no</td>\n",
       "    </tr>\n",
       "  </tbody>\n",
       "</table>\n",
       "</div>"
      ],
      "text/plain": [
       "       id response_before response_after\n",
       "0  subj.1              no            yes\n",
       "1  subj.2             yes             no\n",
       "2  subj.3             yes             no\n",
       "3  subj.4             yes             no\n",
       "4  subj.5              no             no"
      ]
     },
     "execution_count": 42,
     "metadata": {},
     "output_type": "execute_result"
    }
   ],
   "source": [
    "df = pd.read_csv('https://raw.githubusercontent.com/ethanweed/pythonbook/main/Data/agpp.csv')\n",
    "df.head()"
   ]
  },
  {
   "cell_type": "code",
   "execution_count": 43,
   "metadata": {},
   "outputs": [
    {
     "data": {
      "text/html": [
       "<div>\n",
       "<style scoped>\n",
       "    .dataframe tbody tr th:only-of-type {\n",
       "        vertical-align: middle;\n",
       "    }\n",
       "\n",
       "    .dataframe tbody tr th {\n",
       "        vertical-align: top;\n",
       "    }\n",
       "\n",
       "    .dataframe thead th {\n",
       "        text-align: right;\n",
       "    }\n",
       "</style>\n",
       "<table border=\"1\" class=\"dataframe\">\n",
       "  <thead>\n",
       "    <tr style=\"text-align: right;\">\n",
       "      <th>response_after</th>\n",
       "      <th>0</th>\n",
       "      <th>1</th>\n",
       "    </tr>\n",
       "    <tr>\n",
       "      <th>response_before</th>\n",
       "      <th></th>\n",
       "      <th></th>\n",
       "    </tr>\n",
       "  </thead>\n",
       "  <tbody>\n",
       "    <tr>\n",
       "      <th>0</th>\n",
       "      <td>65</td>\n",
       "      <td>5</td>\n",
       "    </tr>\n",
       "    <tr>\n",
       "      <th>1</th>\n",
       "      <td>25</td>\n",
       "      <td>5</td>\n",
       "    </tr>\n",
       "  </tbody>\n",
       "</table>\n",
       "</div>"
      ],
      "text/plain": [
       "response_after    0  1\n",
       "response_before       \n",
       "0                65  5\n",
       "1                25  5"
      ]
     },
     "execution_count": 43,
     "metadata": {},
     "output_type": "execute_result"
    }
   ],
   "source": [
    "observed, stats = pg.chi2_mcnemar(df, 'response_before', 'response_after')\n",
    "observed"
   ]
  },
  {
   "cell_type": "code",
   "execution_count": 44,
   "metadata": {},
   "outputs": [
    {
     "data": {
      "text/html": [
       "<div>\n",
       "<style scoped>\n",
       "    .dataframe tbody tr th:only-of-type {\n",
       "        vertical-align: middle;\n",
       "    }\n",
       "\n",
       "    .dataframe tbody tr th {\n",
       "        vertical-align: top;\n",
       "    }\n",
       "\n",
       "    .dataframe thead th {\n",
       "        text-align: right;\n",
       "    }\n",
       "</style>\n",
       "<table border=\"1\" class=\"dataframe\">\n",
       "  <thead>\n",
       "    <tr style=\"text-align: right;\">\n",
       "      <th></th>\n",
       "      <th>chi2</th>\n",
       "      <th>dof</th>\n",
       "      <th>p-approx</th>\n",
       "      <th>p-exact</th>\n",
       "    </tr>\n",
       "  </thead>\n",
       "  <tbody>\n",
       "    <tr>\n",
       "      <th>mcnemar</th>\n",
       "      <td>12.033333</td>\n",
       "      <td>1</td>\n",
       "      <td>0.000523</td>\n",
       "      <td>0.000325</td>\n",
       "    </tr>\n",
       "  </tbody>\n",
       "</table>\n",
       "</div>"
      ],
      "text/plain": [
       "              chi2  dof  p-approx   p-exact\n",
       "mcnemar  12.033333    1  0.000523  0.000325"
      ]
     },
     "execution_count": 44,
     "metadata": {},
     "output_type": "execute_result"
    }
   ],
   "source": [
    "stats"
   ]
  },
  {
   "cell_type": "markdown",
   "metadata": {},
   "source": [
    "Test was significant: $\\chi^2(1) = 12.03, p<.001$, suggesting the sets are different and the ads influenced the subjects."
   ]
  },
  {
   "cell_type": "markdown",
   "metadata": {},
   "source": []
  }
 ],
 "metadata": {
  "kernelspec": {
   "display_name": "data",
   "language": "python",
   "name": "python3"
  },
  "language_info": {
   "codemirror_mode": {
    "name": "ipython",
    "version": 3
   },
   "file_extension": ".py",
   "mimetype": "text/x-python",
   "name": "python",
   "nbconvert_exporter": "python",
   "pygments_lexer": "ipython3",
   "version": "3.11.5"
  }
 },
 "nbformat": 4,
 "nbformat_minor": 2
}
